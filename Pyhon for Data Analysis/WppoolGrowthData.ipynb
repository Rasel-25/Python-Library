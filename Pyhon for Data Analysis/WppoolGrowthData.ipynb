{
 "cells": [
  {
   "cell_type": "code",
   "execution_count": 2,
   "metadata": {},
   "outputs": [],
   "source": [
    "import pandas as pd\n",
    "import numpy as np\n",
    "import matplotlib.pyplot as plt"
   ]
  },
  {
   "cell_type": "code",
   "execution_count": 3,
   "metadata": {},
   "outputs": [
    {
     "data": {
      "text/html": [
       "<div>\n",
       "<style scoped>\n",
       "    .dataframe tbody tr th:only-of-type {\n",
       "        vertical-align: middle;\n",
       "    }\n",
       "\n",
       "    .dataframe tbody tr th {\n",
       "        vertical-align: top;\n",
       "    }\n",
       "\n",
       "    .dataframe thead th {\n",
       "        text-align: right;\n",
       "    }\n",
       "</style>\n",
       "<table border=\"1\" class=\"dataframe\">\n",
       "  <thead>\n",
       "    <tr style=\"text-align: right;\">\n",
       "      <th></th>\n",
       "      <th>user_id</th>\n",
       "      <th>install_date</th>\n",
       "      <th>last_active_date</th>\n",
       "      <th>subscription_type</th>\n",
       "      <th>country</th>\n",
       "      <th>total_sessions</th>\n",
       "      <th>page_views</th>\n",
       "      <th>download_clicks</th>\n",
       "      <th>activation_status</th>\n",
       "      <th>days_active</th>\n",
       "      <th>pro_upgrade_date</th>\n",
       "      <th>plan_type</th>\n",
       "      <th>monthly_revenue</th>\n",
       "      <th>churned</th>\n",
       "    </tr>\n",
       "  </thead>\n",
       "  <tbody>\n",
       "    <tr>\n",
       "      <th>0</th>\n",
       "      <td>1</td>\n",
       "      <td>6/29/2023</td>\n",
       "      <td>7/12/2023</td>\n",
       "      <td>Free</td>\n",
       "      <td>UK</td>\n",
       "      <td>3</td>\n",
       "      <td>15</td>\n",
       "      <td>1</td>\n",
       "      <td>1</td>\n",
       "      <td>13</td>\n",
       "      <td>NaN</td>\n",
       "      <td>NaN</td>\n",
       "      <td>0</td>\n",
       "      <td>1</td>\n",
       "    </tr>\n",
       "    <tr>\n",
       "      <th>1</th>\n",
       "      <td>2</td>\n",
       "      <td>4/10/2023</td>\n",
       "      <td>7/25/2023</td>\n",
       "      <td>Free</td>\n",
       "      <td>India</td>\n",
       "      <td>133</td>\n",
       "      <td>665</td>\n",
       "      <td>0</td>\n",
       "      <td>1</td>\n",
       "      <td>106</td>\n",
       "      <td>NaN</td>\n",
       "      <td>NaN</td>\n",
       "      <td>0</td>\n",
       "      <td>0</td>\n",
       "    </tr>\n",
       "    <tr>\n",
       "      <th>2</th>\n",
       "      <td>3</td>\n",
       "      <td>10/25/2023</td>\n",
       "      <td>12/7/2023</td>\n",
       "      <td>Free</td>\n",
       "      <td>USA</td>\n",
       "      <td>53</td>\n",
       "      <td>106</td>\n",
       "      <td>0</td>\n",
       "      <td>1</td>\n",
       "      <td>43</td>\n",
       "      <td>NaN</td>\n",
       "      <td>NaN</td>\n",
       "      <td>0</td>\n",
       "      <td>0</td>\n",
       "    </tr>\n",
       "    <tr>\n",
       "      <th>3</th>\n",
       "      <td>4</td>\n",
       "      <td>8/26/2023</td>\n",
       "      <td>11/9/2023</td>\n",
       "      <td>Pro</td>\n",
       "      <td>Canada</td>\n",
       "      <td>242</td>\n",
       "      <td>242</td>\n",
       "      <td>0</td>\n",
       "      <td>1</td>\n",
       "      <td>75</td>\n",
       "      <td>11/9/2023</td>\n",
       "      <td>Basic</td>\n",
       "      <td>49</td>\n",
       "      <td>0</td>\n",
       "    </tr>\n",
       "    <tr>\n",
       "      <th>4</th>\n",
       "      <td>5</td>\n",
       "      <td>5/14/2023</td>\n",
       "      <td>11/22/2023</td>\n",
       "      <td>Free</td>\n",
       "      <td>UK</td>\n",
       "      <td>12</td>\n",
       "      <td>48</td>\n",
       "      <td>0</td>\n",
       "      <td>1</td>\n",
       "      <td>192</td>\n",
       "      <td>NaN</td>\n",
       "      <td>NaN</td>\n",
       "      <td>0</td>\n",
       "      <td>0</td>\n",
       "    </tr>\n",
       "    <tr>\n",
       "      <th>...</th>\n",
       "      <td>...</td>\n",
       "      <td>...</td>\n",
       "      <td>...</td>\n",
       "      <td>...</td>\n",
       "      <td>...</td>\n",
       "      <td>...</td>\n",
       "      <td>...</td>\n",
       "      <td>...</td>\n",
       "      <td>...</td>\n",
       "      <td>...</td>\n",
       "      <td>...</td>\n",
       "      <td>...</td>\n",
       "      <td>...</td>\n",
       "      <td>...</td>\n",
       "    </tr>\n",
       "    <tr>\n",
       "      <th>19995</th>\n",
       "      <td>19996</td>\n",
       "      <td>5/6/2023</td>\n",
       "      <td>9/29/2023</td>\n",
       "      <td>Free</td>\n",
       "      <td>USA</td>\n",
       "      <td>100</td>\n",
       "      <td>300</td>\n",
       "      <td>0</td>\n",
       "      <td>1</td>\n",
       "      <td>146</td>\n",
       "      <td>NaN</td>\n",
       "      <td>NaN</td>\n",
       "      <td>0</td>\n",
       "      <td>0</td>\n",
       "    </tr>\n",
       "    <tr>\n",
       "      <th>19996</th>\n",
       "      <td>19997</td>\n",
       "      <td>9/4/2023</td>\n",
       "      <td>9/21/2023</td>\n",
       "      <td>Pro</td>\n",
       "      <td>Germany</td>\n",
       "      <td>93</td>\n",
       "      <td>372</td>\n",
       "      <td>0</td>\n",
       "      <td>1</td>\n",
       "      <td>17</td>\n",
       "      <td>9/21/2023</td>\n",
       "      <td>Basic</td>\n",
       "      <td>49</td>\n",
       "      <td>1</td>\n",
       "    </tr>\n",
       "    <tr>\n",
       "      <th>19997</th>\n",
       "      <td>19998</td>\n",
       "      <td>4/1/2023</td>\n",
       "      <td>6/14/2023</td>\n",
       "      <td>Free</td>\n",
       "      <td>India</td>\n",
       "      <td>37</td>\n",
       "      <td>185</td>\n",
       "      <td>0</td>\n",
       "      <td>1</td>\n",
       "      <td>74</td>\n",
       "      <td>NaN</td>\n",
       "      <td>NaN</td>\n",
       "      <td>0</td>\n",
       "      <td>0</td>\n",
       "    </tr>\n",
       "    <tr>\n",
       "      <th>19998</th>\n",
       "      <td>19999</td>\n",
       "      <td>1/28/2023</td>\n",
       "      <td>12/26/2023</td>\n",
       "      <td>Pro</td>\n",
       "      <td>Australia</td>\n",
       "      <td>99</td>\n",
       "      <td>198</td>\n",
       "      <td>0</td>\n",
       "      <td>1</td>\n",
       "      <td>332</td>\n",
       "      <td>12/26/2023</td>\n",
       "      <td>Enterprise</td>\n",
       "      <td>29</td>\n",
       "      <td>0</td>\n",
       "    </tr>\n",
       "    <tr>\n",
       "      <th>19999</th>\n",
       "      <td>20000</td>\n",
       "      <td>12/31/2023</td>\n",
       "      <td>1/1/2024</td>\n",
       "      <td>Free</td>\n",
       "      <td>Canada</td>\n",
       "      <td>141</td>\n",
       "      <td>282</td>\n",
       "      <td>0</td>\n",
       "      <td>1</td>\n",
       "      <td>1</td>\n",
       "      <td>NaN</td>\n",
       "      <td>NaN</td>\n",
       "      <td>0</td>\n",
       "      <td>1</td>\n",
       "    </tr>\n",
       "  </tbody>\n",
       "</table>\n",
       "<p>20000 rows × 14 columns</p>\n",
       "</div>"
      ],
      "text/plain": [
       "       user_id install_date last_active_date subscription_type    country  \\\n",
       "0            1    6/29/2023        7/12/2023              Free         UK   \n",
       "1            2    4/10/2023        7/25/2023              Free      India   \n",
       "2            3   10/25/2023        12/7/2023              Free        USA   \n",
       "3            4    8/26/2023        11/9/2023               Pro     Canada   \n",
       "4            5    5/14/2023       11/22/2023              Free         UK   \n",
       "...        ...          ...              ...               ...        ...   \n",
       "19995    19996     5/6/2023        9/29/2023              Free        USA   \n",
       "19996    19997     9/4/2023        9/21/2023               Pro    Germany   \n",
       "19997    19998     4/1/2023        6/14/2023              Free      India   \n",
       "19998    19999    1/28/2023       12/26/2023               Pro  Australia   \n",
       "19999    20000   12/31/2023         1/1/2024              Free     Canada   \n",
       "\n",
       "       total_sessions  page_views  download_clicks  activation_status  \\\n",
       "0                   3          15                1                  1   \n",
       "1                 133         665                0                  1   \n",
       "2                  53         106                0                  1   \n",
       "3                 242         242                0                  1   \n",
       "4                  12          48                0                  1   \n",
       "...               ...         ...              ...                ...   \n",
       "19995             100         300                0                  1   \n",
       "19996              93         372                0                  1   \n",
       "19997              37         185                0                  1   \n",
       "19998              99         198                0                  1   \n",
       "19999             141         282                0                  1   \n",
       "\n",
       "       days_active pro_upgrade_date   plan_type  monthly_revenue  churned  \n",
       "0               13              NaN         NaN                0        1  \n",
       "1              106              NaN         NaN                0        0  \n",
       "2               43              NaN         NaN                0        0  \n",
       "3               75        11/9/2023       Basic               49        0  \n",
       "4              192              NaN         NaN                0        0  \n",
       "...            ...              ...         ...              ...      ...  \n",
       "19995          146              NaN         NaN                0        0  \n",
       "19996           17        9/21/2023       Basic               49        1  \n",
       "19997           74              NaN         NaN                0        0  \n",
       "19998          332       12/26/2023  Enterprise               29        0  \n",
       "19999            1              NaN         NaN                0        1  \n",
       "\n",
       "[20000 rows x 14 columns]"
      ]
     },
     "execution_count": 3,
     "metadata": {},
     "output_type": "execute_result"
    }
   ],
   "source": [
    "df = pd.read_csv('wppool_growth_data.csv')\n",
    "df"
   ]
  },
  {
   "cell_type": "markdown",
   "metadata": {},
   "source": [
    "# 2. User Engagement Analysis"
   ]
  },
  {
   "cell_type": "code",
   "execution_count": null,
   "metadata": {},
   "outputs": [
    {
     "name": "stdout",
     "output_type": "stream",
     "text": [
      "subscription_type\n",
      "Free     76.081210\n",
      "Pro     154.677836\n",
      "Name: total_sessions, dtype: float64\n"
     ]
    }
   ],
   "source": [
    "# a: Identify the average number of sessions for Free vs. Pro users.\n",
    "# Group by subscription_type and calculate the average total_sessions\n",
    "avg_sessions = df.groupby(\"subscription_type\")[\"total_sessions\"].mean()\n",
    "\n",
    "# Display the results\n",
    "print(avg_sessions)"
   ]
  },
  {
   "cell_type": "code",
   "execution_count": 12,
   "metadata": {},
   "outputs": [
    {
     "name": "stdout",
     "output_type": "stream",
     "text": [
      "      user_id  total_sessions\n",
      "188       189             300\n",
      "821       822             300\n",
      "1571     1572             300\n",
      "2456     2457             300\n",
      "3348     3349             300\n"
     ]
    }
   ],
   "source": [
    "# b: Find the top 5 most active users based on total sessions\n",
    "# Get the top 5 most active users based on total_sessions\n",
    "top_active_users = df.nlargest(5, \"total_sessions\")\n",
    "\n",
    "# Display the result\n",
    "print(top_active_users[[\"user_id\", \"total_sessions\"]])"
   ]
  },
  {
   "cell_type": "code",
   "execution_count": 14,
   "metadata": {},
   "outputs": [
    {
     "name": "stdout",
     "output_type": "stream",
     "text": [
      "country\n",
      "India      272202\n",
      "Germany    266319\n",
      "Canada     264217\n",
      "USA        261635\n",
      "France     259495\n",
      "Name: total_sessions, dtype: int64\n"
     ]
    }
   ],
   "source": [
    "# C: Identify the top 5 countries with the highest engagement.\n",
    "# Group by country and sum total_sessions to measure engagement\n",
    "country_engagement = df.groupby(\"country\")[\"total_sessions\"].sum()\n",
    "\n",
    "# Get the top 5 countries with the highest engagement\n",
    "top_countries = country_engagement.nlargest(5)\n",
    "\n",
    "# Display the result\n",
    "print(top_countries)"
   ]
  },
  {
   "cell_type": "markdown",
   "metadata": {},
   "source": [
    "# 3. Churn Analysis"
   ]
  },
  {
   "cell_type": "code",
   "execution_count": 17,
   "metadata": {},
   "outputs": [
    {
     "name": "stdout",
     "output_type": "stream",
     "text": [
      "subscription_type\n",
      "Free    28.595579\n",
      "Pro     28.245222\n",
      "Name: churned, dtype: float64\n"
     ]
    }
   ],
   "source": [
    "# a: Identify the top 3 factors contributing to churn using correlation or regression analysis.\n",
    "# Group by subscription_type and calculate churn rate\n",
    "churn_rate = df.groupby(\"subscription_type\")[\"churned\"].mean() * 100  # Convert to percentage\n",
    "\n",
    "# Display the result\n",
    "print(churn_rate)"
   ]
  },
  {
   "cell_type": "code",
   "execution_count": null,
   "metadata": {},
   "outputs": [
    {
     "name": "stdout",
     "output_type": "stream",
     "text": [
      "days_active          0.617213\n",
      "monthly_revenue      0.008328\n",
      "activation_status    0.005823\n",
      "Name: churned, dtype: float64\n"
     ]
    }
   ],
   "source": [
    "# b: Identify the top 3 factors contributing to churn using correlation or regression analysis.\n",
    "# Selecting only numerical columns for correlation analysis\n",
    "numerical_features = [\"total_sessions\", \"page_views\", \"download_clicks\", \"activation_status\", \"days_active\", \"monthly_revenue\"]\n",
    "correlation = df[numerical_features + [\"churned\"]].corr()[\"churned\"].abs().sort_values(ascending=False)\n",
    "\n",
    "# Top 3 factors contributing to churn\n",
    "top_3_factors = correlation[1:4]  # Exclude 'churned' itself\n",
    "\n",
    "# Display the result\n",
    "print(top_3_factors)"
   ]
  },
  {
   "cell_type": "code",
   "execution_count": null,
   "metadata": {},
   "outputs": [
    {
     "name": "stdout",
     "output_type": "stream",
     "text": [
      "subscription_type      Free       Pro\n",
      "install_date                         \n",
      "2023-01-01         0.062500  0.000000\n",
      "2023-01-02         0.097561  0.111111\n",
      "2023-01-03         0.066667  0.125000\n",
      "2023-01-04         0.048780  0.363636\n",
      "2023-01-05         0.055556  0.000000\n",
      "...                     ...       ...\n",
      "2023-12-28         1.000000  1.000000\n",
      "2023-12-29         1.000000  1.000000\n",
      "2023-12-30         1.000000  1.000000\n",
      "2023-12-31         1.000000  1.000000\n",
      "2024-01-01         1.000000  1.000000\n",
      "\n",
      "[366 rows x 2 columns]\n"
     ]
    }
   ],
   "source": [
    "# Compare churn trends between Free and Pro users\n",
    "# Convert install_date to datetime format\n",
    "df[\"install_date\"] = pd.to_datetime(df[\"install_date\"])\n",
    "\n",
    "# Group by subscription type and install date to calculate churn rate over time\n",
    "churn_trends = df.groupby([\"install_date\", \"subscription_type\"])[\"churned\"].mean().unstack()\n",
    "print(churn_trends)"
   ]
  },
  {
   "cell_type": "code",
   "execution_count": null,
   "metadata": {},
   "outputs": [],
   "source": [
    "# Plot churn trends\n",
    "plt.figure(figsize=(12, 6))\n",
    "churn_trends.plot(marker=\"o\")\n",
    "plt.title(\"Churn Trends Over Time (Free vs. Pro Users)\")\n",
    "plt.xlabel(\"Install Date\")\n",
    "plt.ylabel(\"Churn Rate\")\n",
    "plt.legend([\"Free\", \"Pro\"])\n",
    "plt.grid()\n",
    "plt.show()"
   ]
  },
  {
   "cell_type": "markdown",
   "metadata": {},
   "source": [
    "# 4. Revenue & Upgrade Trends"
   ]
  },
  {
   "cell_type": "code",
   "execution_count": 1,
   "metadata": {},
   "outputs": [
    {
     "ename": "NameError",
     "evalue": "name 'df' is not defined",
     "output_type": "error",
     "traceback": [
      "\u001b[1;31m---------------------------------------------------------------------------\u001b[0m",
      "\u001b[1;31mNameError\u001b[0m                                 Traceback (most recent call last)",
      "Cell \u001b[1;32mIn[1], line 3\u001b[0m\n\u001b[0;32m      1\u001b[0m \u001b[38;5;66;03m# What percentage of users upgraded from Free to Pro?\u001b[39;00m\n\u001b[0;32m      2\u001b[0m \u001b[38;5;66;03m# Count total Free users\u001b[39;00m\n\u001b[1;32m----> 3\u001b[0m total_free_users \u001b[38;5;241m=\u001b[39m \u001b[43mdf\u001b[49m[df[\u001b[38;5;124m\"\u001b[39m\u001b[38;5;124msubscription_type\u001b[39m\u001b[38;5;124m\"\u001b[39m] \u001b[38;5;241m==\u001b[39m \u001b[38;5;124m\"\u001b[39m\u001b[38;5;124mFree\u001b[39m\u001b[38;5;124m\"\u001b[39m][\u001b[38;5;124m\"\u001b[39m\u001b[38;5;124muser_id\u001b[39m\u001b[38;5;124m\"\u001b[39m]\u001b[38;5;241m.\u001b[39mnunique()\n\u001b[0;32m      5\u001b[0m \u001b[38;5;66;03m# Count users who upgraded (have a pro_upgrade_date)\u001b[39;00m\n\u001b[0;32m      6\u001b[0m upgraded_users \u001b[38;5;241m=\u001b[39m df[df[\u001b[38;5;124m\"\u001b[39m\u001b[38;5;124mpro_upgrade_date\u001b[39m\u001b[38;5;124m\"\u001b[39m]\u001b[38;5;241m.\u001b[39mnotna()][\u001b[38;5;124m\"\u001b[39m\u001b[38;5;124muser_id\u001b[39m\u001b[38;5;124m\"\u001b[39m]\u001b[38;5;241m.\u001b[39mnunique()\n",
      "\u001b[1;31mNameError\u001b[0m: name 'df' is not defined"
     ]
    }
   ],
   "source": [
    "# What percentage of users upgraded from Free to Pro?\n",
    "# Count total Free users\n",
    "total_free_users = df[df[\"subscription_type\"] == \"Free\"][\"user_id\"].nunique()\n",
    "\n",
    "# Count users who upgraded (have a pro_upgrade_date)\n",
    "upgraded_users = df[df[\"pro_upgrade_date\"].notna()][\"user_id\"].nunique()\n",
    "\n",
    "# Calculate the upgrade percentage\n",
    "upgrade_percentage = (upgraded_users / total_free_users) * 100\n",
    "\n",
    "# Display the result\n",
    "print(f\"Percentage of users who upgraded from Free to Pro: {upgrade_percentage:.2f}%\")\n"
   ]
  },
  {
   "cell_type": "code",
   "execution_count": null,
   "metadata": {},
   "outputs": [
    {
     "name": "stdout",
     "output_type": "stream",
     "text": [
      "Total Monthly Revenue from Pro Users: $235,481.00\n"
     ]
    }
   ],
   "source": [
    "# b: Calculate the total monthly revenue from Pro users\n",
    "# Filter only Pro users\n",
    "pro_users = df[df[\"subscription_type\"] == \"Pro\"]\n",
    "\n",
    "# Calculate total monthly revenue\n",
    "total_monthly_revenue = pro_users[\"monthly_revenue\"].sum()\n",
    "\n",
    "# Display the result\n",
    "print(f\"Total Monthly Revenue from Pro Users: ${total_monthly_revenue:,.2f}\")\n"
   ]
  },
  {
   "cell_type": "code",
   "execution_count": null,
   "metadata": {},
   "outputs": [
    {
     "name": "stdout",
     "output_type": "stream",
     "text": [
      "plan_type\n",
      "Basic         80339\n",
      "Enterprise    78764\n",
      "Standard      76378\n",
      "Name: monthly_revenue, dtype: int64\n"
     ]
    }
   ],
   "source": [
    "# Which Pro plan (Basic, Standard, or Enterprise) contributes the most revenue?\n",
    "# Filter Pro users\n",
    "pro_users = df[df[\"subscription_type\"] == \"Pro\"]\n",
    "\n",
    "# Group by plan_type and sum monthly_revenue\n",
    "revenue_by_plan = pro_users.groupby(\"plan_type\")[\"monthly_revenue\"].sum().sort_values(ascending=False)\n",
    "\n",
    "# Display the result\n",
    "print(revenue_by_plan)\n"
   ]
  },
  {
   "cell_type": "code",
   "execution_count": null,
   "metadata": {},
   "outputs": [
    {
     "data": {
      "image/png": "[encoded data removed]",
      "text/plain": [
       "<Figure size 640x480 with 1 Axes>"
      ]
     },
     "metadata": {},
     "output_type": "display_data"
    }
   ],
   "source": [
    "import matplotlib.pyplot as plt\n",
    "\n",
    "# Plot revenue distribution\n",
    "revenue_by_plan.plot(kind=\"bar\", color=[\"blue\", \"orange\", \"green\"])\n",
    "plt.title(\"Revenue Contribution by Pro Plan Type\")\n",
    "plt.xlabel(\"Plan Type\")\n",
    "plt.ylabel(\"Total Monthly Revenue ($)\")\n",
    "plt.xticks(rotation=0)\n",
    "plt.grid(axis=\"y\", linestyle=\"--\")\n",
    "plt.show()\n"
   ]
  },
  {
   "cell_type": "markdown",
   "metadata": {},
   "source": [
    "## 5. Actionable Growth Recommendations"
   ]
  },
  {
   "cell_type": "code",
   "execution_count": null,
   "metadata": {},
   "outputs": [],
   "source": [
    "# a. Suggest three strategies to reduce churn.\n",
    "Based on the churn analysis, including correlation and engagement trends, here are three strategies to reduce churn:\n",
    "1. Improve User Engagement & Activation\n",
    "2. Optimize Free-to-Pro Conversion Funnel\n",
    "3. Proactive Retention for At-Risk Users."
   ]
  },
  {
   "cell_type": "code",
   "execution_count": null,
   "metadata": {},
   "outputs": [],
   "source": [
    "# Propose two ways to increase Free-to-Pro conversions.\n",
    "Based on the Free-to-Pro conversion analysis, here are two strategies to increase conversions:\n",
    "1. Enhance Engagement & Feature Teasing.\n",
    "2. Optimize Pricing & Personalized Offers"
   ]
  },
  {
   "cell_type": "code",
   "execution_count": null,
   "metadata": {},
   "outputs": [],
   "source": [
    "# c. Identify potential market expansion opportunities based on country trends.\n",
    "Market Expansion Opportunities Based on Country Trends\n",
    "By analyzing conversion rates, engagement levels, and revenue trends by country, we can identify high-potential markets for expansion.\n",
    "\n",
    "1. Target High-Engagement, Low-Conversion Countries\n",
    "2. Expand in High-Revenue, High-Conversion Countries\n",
    "3. Identify Emerging Markets with Growth Potential"
   ]
  },
  {
   "cell_type": "markdown",
   "metadata": {},
   "source": [
    "# Conversion Rate Optimization (CRO)"
   ]
  },
  {
   "cell_type": "code",
   "execution_count": null,
   "metadata": {},
   "outputs": [],
   "source": [
    "# a: If WPPOOL increases the landing page conversion rate by 10%, what would be the estimated impact on Pro upgrades?\n",
    "\n",
    "\n",
    "A 10% increase in landing page conversion rate will lead to approximately a 10% increase in Pro upgrades, assuming all other factors remain constant.\n",
    "\n",
    "Example Calculation (Hypothetical Numbers)\n",
    "Current Free Users: 10,000\n",
    "Free-to-Pro Upgrade Rate: 5% (0.05)\n",
    "Current Pro Upgrades: 500 (10,000 × 0.05)\n",
    "New Pro Upgrades After 10% Increase:\n",
    "500\n",
    "×\n",
    "1.10\n",
    "=\n",
    "550\n",
    "500×1.10=550\n",
    "→ Estimated +50 additional Pro upgrades."
   ]
  }
 ],
 "metadata": {
  "kernelspec": {
   "display_name": "Python 3",
   "language": "python",
   "name": "python3"
  },
  "language_info": {
   "codemirror_mode": {
    "name": "ipython",
    "version": 3
   },
   "file_extension": ".py",
   "mimetype": "text/x-python",
   "name": "python",
   "nbconvert_exporter": "python",
   "pygments_lexer": "ipython3",
   "version": "3.12.7"
  }
 },
 "nbformat": 4,
 "nbformat_minor": 2
}
